{
  "nbformat": 4,
  "nbformat_minor": 0,
  "metadata": {
    "colab": {
      "provenance": []
    },
    "kernelspec": {
      "name": "python3",
      "display_name": "Python 3"
    },
    "language_info": {
      "name": "python"
    }
  },
  "cells": [
    {
      "cell_type": "code",
      "execution_count": 1,
      "metadata": {
        "colab": {
          "base_uri": "https://localhost:8080/",
          "height": 36
        },
        "id": "L7yvqF-9IA5G",
        "outputId": "dcf827dc-cb18-4405-88d9-10194751875d"
      },
      "outputs": [
        {
          "output_type": "execute_result",
          "data": {
            "text/plain": [
              "'Underweight'"
            ],
            "application/vnd.google.colaboratory.intrinsic+json": {
              "type": "string"
            }
          },
          "metadata": {},
          "execution_count": 1
        }
      ],
      "source": [
        "def bmi(weight, height):\n",
        "    bmi=(weight / height**2)\n",
        "    if bmi <= 18.5 :\n",
        "        return \"Underweight\"\n",
        "    if bmi <= 25.0 :\n",
        "        return \"Normal\"\n",
        "    if bmi <= 30.0 :\n",
        "        return \"Overweight\"\n",
        "    if bmi > 30 :\n",
        "        return \"Obese\"\n",
        "bmi(49,155)"
      ]
    },
    {
      "cell_type": "code",
      "source": [
        "bmi(90,1.8)"
      ],
      "metadata": {
        "colab": {
          "base_uri": "https://localhost:8080/",
          "height": 36
        },
        "id": "Ornwz__mIVh7",
        "outputId": "21f3468c-56a8-45b2-e7eb-95a67b151aa5"
      },
      "execution_count": 6,
      "outputs": [
        {
          "output_type": "execute_result",
          "data": {
            "text/plain": [
              "'Overweight'"
            ],
            "application/vnd.google.colaboratory.intrinsic+json": {
              "type": "string"
            }
          },
          "metadata": {},
          "execution_count": 6
        }
      ]
    }
  ]
}